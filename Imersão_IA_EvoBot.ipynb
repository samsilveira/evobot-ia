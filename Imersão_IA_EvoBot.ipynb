{
  "nbformat": 4,
  "nbformat_minor": 0,
  "metadata": {
    "colab": {
      "provenance": [],
      "authorship_tag": "ABX9TyOBNWCP0abHLLTCTI8VROG9",
      "include_colab_link": true
    },
    "kernelspec": {
      "name": "python3",
      "display_name": "Python 3"
    },
    "language_info": {
      "name": "python"
    }
  },
  "cells": [
    {
      "cell_type": "markdown",
      "metadata": {
        "id": "view-in-github",
        "colab_type": "text"
      },
      "source": [
        "<a href=\"https://colab.research.google.com/github/samsilveira/evobot-ia/blob/main/Imers%C3%A3o_IA_EvoBot.ipynb\" target=\"_parent\"><img src=\"https://colab.research.google.com/assets/colab-badge.svg\" alt=\"Open In Colab\"/></a>"
      ]
    },
    {
      "cell_type": "markdown",
      "source": [
        "# **EvoBot - ChatBot Auxiliar de Estudos**\n",
        "## **Autor**: Samuel Wagner Tiburi Silveira\n",
        "\n",
        "### Descrição do projeto\n",
        "O EvoBot está sendo idealizado com o intuito de auxiliar estudantes pré-vestibulandos, com ênfase no ENEM - Exame Nacional do Ensino Médio.\n",
        "\n",
        "Este auxiliar fará a análise das notas e dos acertos do estudante nas edições onde teve realização da prova.\n",
        "Além das notas de TRI oficiais do ENEM, o usuário poderá inserir notas de TRI de simulados feitos no modelo do Exame.\n",
        "\n",
        "---\n",
        "\n",
        "\n",
        "\n",
        "#### **EM ANDAMENTO**\n",
        "Com o auxílio de professores que possuem ampla experiência em análises do ENEM, teremos a inserção dos microdados e das questões de edições anteriores do exame, com verificação dos parâmetros de composição da **Teoria de Resposta ao Item** (TRI), além da identificação das áreas de conhecimento, competências e habilidades presentes na matriz de referência.\n",
        "\n",
        "Para a análise das notas de redação, com o auxílio de professores e corretores com atuação no ENEM, haverá a atribuição das cinco competências explicitadas na cartilha de redação do participante. Com o uso de redações feitas no ENEM, fornecidas pelos candidatos que estiverem de acordo, será feita a análise de cada competência para a melhor aplicação do chatbot em orientações de escrita dos textos dissertativo-argumentativos.\n",
        "\n",
        "\n",
        "\n"
      ],
      "metadata": {
        "id": "WMGc5Tbf-GS9"
      }
    },
    {
      "cell_type": "code",
      "execution_count": 1,
      "metadata": {
        "id": "G_rN9OA7Y66L"
      },
      "outputs": [],
      "source": [
        "!pip install -q -U google-generativeai"
      ]
    },
    {
      "cell_type": "code",
      "source": [
        "import google.generativeai as genai\n",
        "\n",
        "GOOGLE_API_KEY='API_KEY'\n",
        "genai.configure(api_key=GOOGLE_API_KEY)"
      ],
      "metadata": {
        "id": "coEAlmLfZ1tq"
      },
      "execution_count": 2,
      "outputs": []
    },
    {
      "cell_type": "code",
      "source": [
        "generation_config = {\n",
        "    \"candidate_count\": 1,\n",
        "    \"temperature\": 0.75\n",
        "}"
      ],
      "metadata": {
        "id": "YGkDN8rXZ-fK"
      },
      "execution_count": 9,
      "outputs": []
    },
    {
      "cell_type": "code",
      "source": [
        "safety_settings = {\n",
        "    \"HARASSMENT\": \"BLOCK_ONLY_HIGH\",\n",
        "    \"HATE\": \"BLOCK_ONLY_HIGH\",\n",
        "    \"SEXUAL\": \"BLOCK_ONLY_HIGH\",\n",
        "    \"DANGEROUS\": \"BLOCK_ONLY_HIGH\"\n",
        "}"
      ],
      "metadata": {
        "id": "_o6IgiefaBS4"
      },
      "execution_count": 10,
      "outputs": []
    },
    {
      "cell_type": "code",
      "source": [
        "model = genai.GenerativeModel(model_name=\"gemini-1.0-pro\",\n",
        "                              generation_config=generation_config,\n",
        "                              safety_settings=safety_settings)"
      ],
      "metadata": {
        "id": "eKhQ2pO9aLc7"
      },
      "execution_count": 11,
      "outputs": []
    },
    {
      "cell_type": "code",
      "source": [
        "# Boas-vindas do Darwin AI\n",
        "print(\"Olá! Sou o Darwin AI, seu assistente de estudos do Evolução Cursos.\")\n",
        "\n",
        "while True:\n",
        "  # Coleta do ano do ENEM\n",
        "  ano_enem = input(\"Qual ano do ENEM você deseja analisar? \")\n",
        "\n",
        "  # Coleta das notas e acertos em cada área\n",
        "  print(\"Informe suas notas e número de acertos em cada área, separados por vírgula.\")\n",
        "  print(\"Exemplo: Linguagens 700, 30; Humanas 600, 25; Natureza 500, 20; Matemática 800, 40; Redação 900\")\n",
        "  notas_acertos = input(f\"Notas e acertos do ENEM {ano_enem}: \")\n",
        "\n",
        "  # Cria o prompt para o Gemini\n",
        "  prompt = f\"\"\"Responda como um chatbot de estudos chamado Darwin AI, analisando as notas de um aluno no ENEM {ano_enem}.\n",
        "  As notas e acertos do aluno são: {notas_acertos}.\n",
        "  Leve sempre em conta os microdados correspondentes ao ENEM do ano de {ano_enem}, para manter uma maior confiabilidade.\n",
        "  Faça uma análise inicial do desempenho, destacando os pontos fortes, os pontos fracos e dando dicas gerais de estudo. Tenha como base que, em ordem de importância de nota de TRI (da maior para a menor), temos redação, matemática, humanas, natureza e linguagens.\n",
        "  Considere que, para a nota de redação, o ideal é uma nota acima de 840.\n",
        "\n",
        "  Seja conciso e amigável.\"\"\"\n",
        "\n",
        "  # Define os parâmetros da requisição\n",
        "  response = model.generate_content(prompt)\n",
        "\n",
        "  # Imprime a resposta do Darwin AI\n",
        "  print(response.text)\n",
        "\n",
        "  # Pergunta se o usuário deseja continuar\n",
        "  continuar = input(\"Deseja analisar outro ano do ENEM? (s/n) \")\n",
        "  if continuar.lower() != 's':\n",
        "    break\n",
        "\n",
        "print(\"Bons estudos! Darwin AI estará aqui para te ajudar quando precisar.\")"
      ],
      "metadata": {
        "colab": {
          "base_uri": "https://localhost:8080/",
          "height": 506
        },
        "id": "LZVoVnova2bq",
        "outputId": "fa8783d5-1646-412d-e8f7-d7854594bb43"
      },
      "execution_count": 12,
      "outputs": [
        {
          "output_type": "stream",
          "name": "stdout",
          "text": [
            "Olá! Sou o Darwin AI, seu assistente de estudos do Evolução Cursos.\n",
            "Qual ano do ENEM você deseja analisar? 2023\n",
            "Informe suas notas e número de acertos em cada área, separados por vírgula.\n",
            "Exemplo: Linguagens 700, 30; Humanas 600, 25; Natureza 500, 20; Matemática 800, 40; Redação 900\n",
            "Notas e acertos do ENEM 2023: Linguagens 640, 34; Humanas 692, 39; Natureza 709, 32; Matemática 710, 26; Redação 680\n",
            "**Análise de Desempenho do ENEM 2023:**\n",
            "\n",
            "**Pontos fortes:**\n",
            "\n",
            "* **Humanas:** Nota acima da média (692) com 39 acertos.\n",
            "* **Natureza:** Nota acima da média (709) com 32 acertos.\n",
            "* **Matemática:** Nota alta (710) com 26 acertos, apesar de ser um ponto fraco.\n",
            "\n",
            "**Pontos fracos:**\n",
            "\n",
            "* **Linguagens:** Nota abaixo da média (640) com 34 acertos.\n",
            "* **Redação:** Nota abaixo do ideal (680).\n",
            "\n",
            "**Dicas gerais de estudo:**\n",
            "\n",
            "* **Linguagens:** Revise os conteúdos de gramática, interpretação de texto e literatura. Pratique questões anteriores e busque exercícios extras.\n",
            "* **Redação:** Aumente o tempo de prática de escrita e receba feedback de um professor ou tutor. Leia textos diversos e analise redações modelo.\n",
            "* **Matemática:** Dedique tempo à resolução de exercícios e revisão de fórmulas. Busque ajuda externa se necessário.\n",
            "* **Humanas:** Foque em conteúdos de história, geografia, sociologia e filosofia. Participe de debates e discussões para melhorar o entendimento.\n",
            "* **Natureza:** Estude biologia, química e física. Realize experimentos práticos sempre que possível.\n",
            "Deseja analisar outro ano do ENEM? (s/n) n\n",
            "Bons estudos! Darwin AI estará aqui para te ajudar quando precisar.\n"
          ]
        }
      ]
    }
  ]
}