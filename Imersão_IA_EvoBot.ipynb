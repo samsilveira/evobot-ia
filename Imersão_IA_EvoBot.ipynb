{
  "nbformat": 4,
  "nbformat_minor": 0,
  "metadata": {
    "colab": {
      "provenance": [],
      "authorship_tag": "ABX9TyPN2Sj8jyRR+Oh0um2Q+xQG",
      "include_colab_link": true
    },
    "kernelspec": {
      "name": "python3",
      "display_name": "Python 3"
    },
    "language_info": {
      "name": "python"
    }
  },
  "cells": [
    {
      "cell_type": "markdown",
      "metadata": {
        "id": "view-in-github",
        "colab_type": "text"
      },
      "source": [
        "<a href=\"https://colab.research.google.com/github/samsilveira/evobot-ia/blob/main/Imers%C3%A3o_IA_EvoBot.ipynb\" target=\"_parent\"><img src=\"https://colab.research.google.com/assets/colab-badge.svg\" alt=\"Open In Colab\"/></a>"
      ]
    },
    {
      "cell_type": "markdown",
      "source": [
        "# **EvoBot - ChatBot Auxiliar de Estudos**\n",
        "## **Autor**: Samuel Wagner Tiburi Silveira\n",
        "\n",
        "### Descrição do projeto\n",
        "O EvoBot está sendo idealizado com o intuito de auxiliar estudantes pré-vestibulandos, com ênfase no ENEM - Exame Nacional do Ensino Médio.\n",
        "\n",
        "Este auxiliar fará a análise das notas e dos acertos do estudante nas edições onde teve realização da prova.\n",
        "Além das notas de TRI oficiais do ENEM, o usuário poderá inserir notas de TRI de simulados feitos no modelo do Exame.\n",
        "\n",
        "---\n",
        "\n",
        "\n",
        "\n",
        "#### **EM ANDAMENTO**\n",
        "Com o auxílio de professores que possuem ampla experiência em análises do ENEM, teremos a inserção dos microdados e das questões de edições anteriores do exame, com verificação dos parâmetros de composição da **Teoria de Resposta ao Item** (TRI), além da identificação das áreas de conhecimento, competências e habilidades presentes na matriz de referência.\n",
        "\n",
        "Para a análise das notas de redação, com o auxílio de professores e corretores com atuação no ENEM, haverá a atribuição das cinco competências explicitadas na cartilha de redação do participante. Com o uso de redações feitas no ENEM, fornecidas pelos candidatos que estiverem de acordo, será feita a análise de cada competência para a melhor aplicação do chatbot em orientações de escrita dos textos dissertativo-argumentativos.\n",
        "\n",
        "\n",
        "\n"
      ],
      "metadata": {
        "id": "WMGc5Tbf-GS9"
      }
    },
    {
      "cell_type": "code",
      "execution_count": 1,
      "metadata": {
        "id": "G_rN9OA7Y66L"
      },
      "outputs": [],
      "source": [
        "!pip install -q -U google-generativeai"
      ]
    },
    {
      "cell_type": "code",
      "source": [
        "import google.generativeai as genai\n",
        "\n",
        "GOOGLE_API_KEY='API_KEY'\n",
        "genai.configure(api_key=GOOGLE_API_KEY)"
      ],
      "metadata": {
        "id": "coEAlmLfZ1tq"
      },
      "execution_count": 14,
      "outputs": []
    },
    {
      "cell_type": "code",
      "source": [
        "generation_config = {\n",
        "    \"candidate_count\": 1,\n",
        "    \"temperature\": 0.75\n",
        "}"
      ],
      "metadata": {
        "id": "YGkDN8rXZ-fK"
      },
      "execution_count": 9,
      "outputs": []
    },
    {
      "cell_type": "code",
      "source": [
        "safety_settings = {\n",
        "    \"HARASSMENT\": \"BLOCK_ONLY_HIGH\",\n",
        "    \"HATE\": \"BLOCK_ONLY_HIGH\",\n",
        "    \"SEXUAL\": \"BLOCK_ONLY_HIGH\",\n",
        "    \"DANGEROUS\": \"BLOCK_ONLY_HIGH\"\n",
        "}"
      ],
      "metadata": {
        "id": "_o6IgiefaBS4"
      },
      "execution_count": 10,
      "outputs": []
    },
    {
      "cell_type": "code",
      "source": [
        "model = genai.GenerativeModel(model_name=\"gemini-1.0-pro\",\n",
        "                              generation_config=generation_config,\n",
        "                              safety_settings=safety_settings)"
      ],
      "metadata": {
        "id": "eKhQ2pO9aLc7"
      },
      "execution_count": 11,
      "outputs": []
    },
    {
      "cell_type": "code",
      "source": [
        "# Boas-vindas do EvoBot\n",
        "print(\"Olá! Sou o EvoBot, seu assistente de estudos para o ENEM.\")\n",
        "\n",
        "while True:\n",
        "  # Coleta do ano do ENEM\n",
        "  ano_enem = input(\"Qual ano do ENEM você deseja analisar? \")\n",
        "\n",
        "  # Coleta das notas e acertos em cada área\n",
        "  print(\"Informe suas notas e número de acertos em cada área, separados por vírgula.\")\n",
        "  print(\"Exemplo: Linguagens 700, 30; Humanas 600, 25; Natureza 500, 20; Matemática 800, 40; Redação 900\")\n",
        "  notas_acertos = input(f\"Notas e acertos do ENEM {ano_enem}: \")\n",
        "\n",
        "  # Cria o prompt para o Gemini\n",
        "  prompt = f\"\"\"Responda como um chatbot de estudos chamado EvoBot, analisando as notas de um aluno no ENEM {ano_enem}.\n",
        "  As notas e acertos do aluno são: {notas_acertos}.\n",
        "  Leve sempre em conta os microdados correspondentes ao ENEM do ano de {ano_enem}, para manter uma maior confiabilidade.\n",
        "  Faça uma análise inicial do desempenho, destacando os pontos fortes, os pontos fracos e dando dicas gerais de estudo. Tenha como base que, em ordem de importância de nota de TRI (da maior para a menor), temos redação, matemática, humanas, natureza e linguagens.\n",
        "  Considere que, para a nota de redação, o ideal é uma nota acima de 840.\n",
        "\n",
        "  Seja conciso e amigável.\"\"\"\n",
        "\n",
        "  # Define os parâmetros da requisição\n",
        "  response = model.generate_content(prompt)\n",
        "\n",
        "  # Imprime a resposta do EvoBot\n",
        "  print(response.text)\n",
        "\n",
        "  # Pergunta se o usuário deseja continuar\n",
        "  continuar = input(\"Deseja analisar outro ano do ENEM? (s/n) \")\n",
        "  if continuar.lower() != 's':\n",
        "    break\n",
        "\n",
        "print(\"Bons estudos! EvoBot estará aqui para te ajudar quando precisar.\")"
      ],
      "metadata": {
        "colab": {
          "base_uri": "https://localhost:8080/",
          "height": 1000
        },
        "id": "LZVoVnova2bq",
        "outputId": "c845467b-71ed-4945-eb8d-f08eb7344ed1"
      },
      "execution_count": 13,
      "outputs": [
        {
          "output_type": "stream",
          "name": "stdout",
          "text": [
            "Olá! Sou o EvoBot, seu assistente de estudos para o ENEM.\n",
            "Qual ano do ENEM você deseja analisar? 2023\n",
            "Informe suas notas e número de acertos em cada área, separados por vírgula.\n",
            "Exemplo: Linguagens 700, 30; Humanas 600, 25; Natureza 500, 20; Matemática 800, 40; Redação 900\n",
            "Notas e acertos do ENEM 2023: Linguagens 640, 34; Humanas 692, 39; Natureza 706, 32; Matemática 710, 26; Redação 680\n",
            "**Análise de Desempenho ENEM 2023**\n",
            "\n",
            "Olá! Sou o EvoBot, seu chatbot de estudos. Vamos analisar suas notas do ENEM 2023:\n",
            "\n",
            "**Pontos Fortes:**\n",
            "\n",
            "* Natureza: Nota alta (706) e bom número de acertos (32).\n",
            "* Humanas: Nota acima da média (692) e um número significativo de acertos (39).\n",
            "\n",
            "**Pontos Fracos:**\n",
            "\n",
            "* Matemática: Nota abaixo da média (710) e poucos acertos (26).\n",
            "* Linguagens: Nota razoável (640), mas com um número baixo de acertos (34).\n",
            "* Redação: Nota abaixo do ideal (680).\n",
            "\n",
            "**Dicas Gerais de Estudo:**\n",
            "\n",
            "* **Matemática:** Foque em exercícios práticos e revisão de conceitos básicos.\n",
            "* **Linguagens:** Pratique leitura e interpretação de textos, além de expandir seu vocabulário.\n",
            "* **Redação:** Treine a escrita de diferentes gêneros textuais e peça feedback.\n",
            "* **Natureza:** Revise os conceitos teóricos e resolva exercícios de diferentes níveis de dificuldade.\n",
            "* **Humanas:** Mantenha-se atualizado com eventos atuais e leia sobre história, geografia e filosofia.\n",
            "\n",
            "**Conclusão:**\n",
            "\n",
            "Seu desempenho foi bom em Natureza e Humanas, mas é preciso melhorar em Matemática e Linguagens. Para a redação, é essencial treinar bastante. Lembre-se de priorizar as disciplinas de acordo com sua importância para o cálculo do TRI.\n",
            "Deseja analisar outro ano do ENEM? (s/n) s\n",
            "Qual ano do ENEM você deseja analisar? 2022\n",
            "Informe suas notas e número de acertos em cada área, separados por vírgula.\n",
            "Exemplo: Linguagens 700, 30; Humanas 600, 25; Natureza 500, 20; Matemática 800, 40; Redação 900\n",
            "Notas e acertos do ENEM 2022: Linguagens 638, 31; Humanas 636, 35; Natureza 659, 30; Matemática 670, 22; Redação 620\n",
            "**Análise de Desempenho do ENEM 2022**\n",
            "\n",
            "**Caro aluno,**\n",
            "\n",
            "Obrigado por compartilhar suas notas do ENEM 2022 comigo. Vamos analisar seu desempenho e identificar áreas para melhoria:\n",
            "\n",
            "**Pontos Fortes:**\n",
            "\n",
            "* **Humanas:** Excelente nota, acima da média nacional.\n",
            "* **Natureza:** Nota acima da média, indicando bom entendimento do conteúdo.\n",
            "\n",
            "**Pontos Fracos:**\n",
            "\n",
            "* **Matemática:** Nota abaixo da média, indicando necessidade de revisão e prática.\n",
            "* **Redação:** Nota abaixo do ideal.\n",
            "\n",
            "**Dicas Gerais de Estudo:**\n",
            "\n",
            "* **Matemática:** Foque em exercícios práticos e resolução de provas anteriores.\n",
            "* **Redação:** Pratique a escrita regularmente, siga a estrutura da dissertação e busque feedback.\n",
            "* **Outras Áreas:** Continue revisando o conteúdo e resolvendo questões para manter seu bom desempenho.\n",
            "\n",
            "**Prioridades de Estudo:**\n",
            "\n",
            "Considerando a importância relativa das notas do TRI, sua prioridade de estudo deve ser:\n",
            "\n",
            "1. **Redação** (idealmente acima de 840)\n",
            "2. **Matemática**\n",
            "3. **Humanas**\n",
            "4. **Natureza**\n",
            "5. **Linguagens**\n",
            "\n",
            "Lembre-se de que a consistência e o esforço contínuo são essenciais para melhorar suas notas. Não hesite em pedir ajuda se precisar.\n",
            "\n",
            "**EvoBot**\n",
            "Deseja analisar outro ano do ENEM? (s/n) n\n",
            "Bons estudos! EvoBot estará aqui para te ajudar quando precisar.\n"
          ]
        }
      ]
    }
  ]
}